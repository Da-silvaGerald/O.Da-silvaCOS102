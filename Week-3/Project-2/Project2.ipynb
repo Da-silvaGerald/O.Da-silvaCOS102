{
 "cells": [
  {
   "cell_type": "code",
   "execution_count": 13,
   "id": "b1975f5b-3e06-4f31-bb3a-fbf9c35cc878",
   "metadata": {},
   "outputs": [
    {
     "name": "stdout",
     "output_type": "stream",
     "text": [
      "Welcome to The root finder application\n"
     ]
    },
    {
     "name": "stdin",
     "output_type": "stream",
     "text": [
      " Which equation would you like to find its roots: Quadratic or Cubic equation? 2\n",
      "Enter A 2\n",
      "Enter B 1\n",
      "Enter C -13\n",
      "Enter D 6\n"
     ]
    },
    {
     "name": "stdout",
     "output_type": "stream",
     "text": [
      "A root and the value of the equation is: -3 0\n",
      "A root and the value of the equation is: 2 0\n"
     ]
    }
   ],
   "source": [
    "# Python code to find the roots of either a cubic and quadratic equation\n",
    "\n",
    "print(\"Welcome to The root finder application\")\n",
    "R = int(input(\" Which equation would you like to find its roots: Quadratic or Cubic equation?\"))\n",
    "\n",
    "if R == 1:\n",
    "    A = int(input(\"Enter A\"))\n",
    "    B = int(input(\"Enter B\"))\n",
    "    C = int(input(\"Enter C\"))\n",
    "    X1 = ((-B ) + (((B**2) - ( 4*A*C))**0.5)) / (2*A*C)\n",
    "    X2 = ((-B ) - (((B**2) - ( 4*A*C))**0.5)) / (2*A*C)\n",
    "    print(\" The first root, X1 is:\",X1)\n",
    "    print(\" The second root, X2 is:\",X2)\n",
    "elif R == 2:\n",
    "    A = int(input(\"Enter A\"))\n",
    "    B = int(input(\"Enter B\"))\n",
    "    C = int(input(\"Enter C\"))\n",
    "    D = int(input(\"Enter D\"))\n",
    "    for X in range (-100,100):\n",
    "        E = (A * (X**3)) + (B * (X**2)) + (C*X) + D\n",
    "        if E == 0:\n",
    "            print(\"A root and the value of the equation is:\",X,E)\n",
    "    \n",
    "      "
   ]
  },
  {
   "cell_type": "code",
   "execution_count": null,
   "id": "b6170354-b55c-42bf-9f9d-95bea1ad75ef",
   "metadata": {},
   "outputs": [],
   "source": []
  }
 ],
 "metadata": {
  "kernelspec": {
   "display_name": "Python 3 (ipykernel)",
   "language": "python",
   "name": "python3"
  },
  "language_info": {
   "codemirror_mode": {
    "name": "ipython",
    "version": 3
   },
   "file_extension": ".py",
   "mimetype": "text/x-python",
   "name": "python",
   "nbconvert_exporter": "python",
   "pygments_lexer": "ipython3",
   "version": "3.11.7"
  }
 },
 "nbformat": 4,
 "nbformat_minor": 5
}
