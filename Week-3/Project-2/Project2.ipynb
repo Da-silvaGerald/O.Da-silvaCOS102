{
 "cells": [
  {
   "cell_type": "code",
   "execution_count": null,
   "id": "b1975f5b-3e06-4f31-bb3a-fbf9c35cc878",
   "metadata": {},
   "outputs": [],
   "source": [
    "# Python code to find the roots of either a cubic and quadratic equation\n",
    "\n",
    "print(\"Welcome to The root finder application\")\n",
    "print(input(\" Which equation would you like to find its roots: Quadratic or Cubic equation?\")"
   ]
  }
 ],
 "metadata": {
  "kernelspec": {
   "display_name": "Python 3 (ipykernel)",
   "language": "python",
   "name": "python3"
  },
  "language_info": {
   "codemirror_mode": {
    "name": "ipython",
    "version": 3
   },
   "file_extension": ".py",
   "mimetype": "text/x-python",
   "name": "python",
   "nbconvert_exporter": "python",
   "pygments_lexer": "ipython3",
   "version": "3.11.7"
  }
 },
 "nbformat": 4,
 "nbformat_minor": 5
}
