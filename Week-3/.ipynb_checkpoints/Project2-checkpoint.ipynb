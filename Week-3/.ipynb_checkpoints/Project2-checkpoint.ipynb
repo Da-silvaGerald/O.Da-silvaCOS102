{
 "cells": [
  {
   "cell_type": "code",
   "execution_count": 18,
   "id": "b1975f5b-3e06-4f31-bb3a-fbf9c35cc878",
   "metadata": {},
   "outputs": [
    {
     "name": "stdout",
     "output_type": "stream",
     "text": [
      "Welcome to The root finder application\n"
     ]
    },
    {
     "name": "stdin",
     "output_type": "stream",
     "text": [
      " Which equation would you like to find its roots: Quadratic or Cubic equation? 1\n",
      "Enter A 2\n",
      "Enter B 3\n",
      "Enter C 4\n"
     ]
    },
    {
     "ename": "TypeError",
     "evalue": "bad operand type for unary -: 'str'",
     "output_type": "error",
     "traceback": [
      "\u001b[1;31m---------------------------------------------------------------------------\u001b[0m",
      "\u001b[1;31mTypeError\u001b[0m                                 Traceback (most recent call last)",
      "Cell \u001b[1;32mIn[18], line 10\u001b[0m\n\u001b[0;32m      8\u001b[0m B \u001b[38;5;241m=\u001b[39m \u001b[38;5;28minput\u001b[39m(\u001b[38;5;124m\"\u001b[39m\u001b[38;5;124mEnter B\u001b[39m\u001b[38;5;124m\"\u001b[39m)\n\u001b[0;32m      9\u001b[0m C \u001b[38;5;241m=\u001b[39m \u001b[38;5;28minput\u001b[39m(\u001b[38;5;124m\"\u001b[39m\u001b[38;5;124mEnter C\u001b[39m\u001b[38;5;124m\"\u001b[39m)\n\u001b[1;32m---> 10\u001b[0m X1 \u001b[38;5;241m=\u001b[39m (\u001b[38;5;241m-\u001b[39m(B) \u001b[38;5;241m+\u001b[39m (((B\u001b[38;5;241m*\u001b[39m\u001b[38;5;241m*\u001b[39m\u001b[38;5;241m2\u001b[39m)\u001b[38;5;241m-\u001b[39m(\u001b[38;5;241m4\u001b[39m\u001b[38;5;241m*\u001b[39mA\u001b[38;5;241m*\u001b[39mC))\u001b[38;5;241m*\u001b[39m\u001b[38;5;241m*\u001b[39m\u001b[38;5;241m0.5\u001b[39m))\u001b[38;5;241m/\u001b[39m(\u001b[38;5;241m2\u001b[39m\u001b[38;5;241m*\u001b[39mA)\n\u001b[0;32m     11\u001b[0m X2 \u001b[38;5;241m=\u001b[39m (\u001b[38;5;241m-\u001b[39m(B) \u001b[38;5;241m-\u001b[39m (((B\u001b[38;5;241m*\u001b[39m\u001b[38;5;241m*\u001b[39m\u001b[38;5;241m2\u001b[39m)\u001b[38;5;241m-\u001b[39m(\u001b[38;5;241m4\u001b[39m\u001b[38;5;241m*\u001b[39mA\u001b[38;5;241m*\u001b[39mC))\u001b[38;5;241m*\u001b[39m\u001b[38;5;241m*\u001b[39m\u001b[38;5;241m0.5\u001b[39m))\u001b[38;5;241m/\u001b[39m(\u001b[38;5;241m2\u001b[39m\u001b[38;5;241m*\u001b[39mA)\n\u001b[0;32m     12\u001b[0m \u001b[38;5;28mprint\u001b[39m(\u001b[38;5;124m\"\u001b[39m\u001b[38;5;124mYour 1st root is:\u001b[39m\u001b[38;5;124m\"\u001b[39m, X1)\n",
      "\u001b[1;31mTypeError\u001b[0m: bad operand type for unary -: 'str'"
     ]
    }
   ],
   "source": [
    "# Python code to find the roots of either a cubic and quadratic equation\n",
    "\n",
    "print(\"Welcome to The root finder application\")\n",
    "R = int(input(\" Which equation would you like to find its roots: Quadratic or Cubic equation?\"))\n",
    "\n",
    "if R == 1 :\n",
    "    A = input(\"Enter A\")\n",
    "    B = input(\"Enter B\")\n",
    "    C = input(\"Enter C\")\n",
    "    X1 = (-(B) + (((B**2)-(4*A*C))**0.5))/(2*A)\n",
    "    X2 = (-(B) - (((B**2)-(4*A*C))**0.5))/(2*A)\n",
    "    print(\"Your 1st root is:\", X1)\n",
    "    print(\"Your 2nd root is:\", X2)\n",
    "elif R == 2 :\n",
    "    A = int(input(\"Enter A\"))\n",
    "    B = int(input(\"Enter B\"))\n",
    "    C = int(input(\"Enter C\"))\n",
    "    D = int(input(\"Enter D\"))\n",
    "    for i in range (0,100):\n",
    "            E = ((A * (i**3)) + (B *(i**2)) + (C * i) + D) \n",
    "            print (i,E)\n",
    "            if E == 0 :\n",
    "                    print (i)"
   ]
  },
  {
   "cell_type": "code",
   "execution_count": null,
   "id": "ec500675-25b7-48c1-b231-c2e93c305a1b",
   "metadata": {},
   "outputs": [],
   "source": []
  },
  {
   "cell_type": "code",
   "execution_count": null,
   "id": "789645c1-6b04-4062-81a2-657d5707ef8b",
   "metadata": {},
   "outputs": [],
   "source": []
  }
 ],
 "metadata": {
  "kernelspec": {
   "display_name": "Python 3 (ipykernel)",
   "language": "python",
   "name": "python3"
  },
  "language_info": {
   "codemirror_mode": {
    "name": "ipython",
    "version": 3
   },
   "file_extension": ".py",
   "mimetype": "text/x-python",
   "name": "python",
   "nbconvert_exporter": "python",
   "pygments_lexer": "ipython3",
   "version": "3.11.7"
  }
 },
 "nbformat": 4,
 "nbformat_minor": 5
}
