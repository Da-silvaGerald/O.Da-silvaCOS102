{
 "cells": [
  {
   "cell_type": "code",
   "execution_count": 1,
   "id": "a17fa56d-cbaf-4b0c-b14c-59faec4318b4",
   "metadata": {},
   "outputs": [
    {
     "name": "stdout",
     "output_type": "stream",
     "text": [
      "Hi my name is Gerald. This is a string\n",
      "<class 'str'>\n",
      "Hi his name is Rusell. This is also a string\n",
      "<class 'str'>\n"
     ]
    }
   ],
   "source": [
    "# Python program to print strings and type\n",
    "str1 = \"Hi my name is Gerald. This is a string\"\n",
    "str2 = 'Hi his name is Rusell. This is also a string'\n",
    "\n",
    "# Displaying string str1 and its type\n",
    "print(str1)\n",
    "print(type(str1))\n",
    "\n",
    "# Displaying string str2 and its type\n",
    "print(str2)\n",
    "print(type(str2))"
   ]
  },
  {
   "cell_type": "code",
   "execution_count": null,
   "id": "3618f2a5-b3f2-48aa-949a-8d3e5c57ab17",
   "metadata": {},
   "outputs": [],
   "source": []
  }
 ],
 "metadata": {
  "kernelspec": {
   "display_name": "Python 3 (ipykernel)",
   "language": "python",
   "name": "python3"
  },
  "language_info": {
   "codemirror_mode": {
    "name": "ipython",
    "version": 3
   },
   "file_extension": ".py",
   "mimetype": "text/x-python",
   "name": "python",
   "nbconvert_exporter": "python",
   "pygments_lexer": "ipython3",
   "version": "3.11.7"
  }
 },
 "nbformat": 4,
 "nbformat_minor": 5
}
