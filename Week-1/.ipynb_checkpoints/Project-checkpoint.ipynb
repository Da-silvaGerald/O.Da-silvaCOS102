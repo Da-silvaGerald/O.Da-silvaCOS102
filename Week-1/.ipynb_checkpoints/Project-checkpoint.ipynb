{
 "cells": [
  {
   "cell_type": "code",
   "execution_count": 14,
   "id": "9425ad3b-1b53-4cc1-b1e6-1235449ffa1d",
   "metadata": {},
   "outputs": [
    {
     "name": "stdout",
     "output_type": "stream",
     "text": [
      "Your Amount is: 104000.0\n"
     ]
    }
   ],
   "source": [
    "# Python program to Calculate Amount for Simple Interest\n",
    "P = 100000\n",
    "R = 2\n",
    "T = 2\n",
    "A = P*(1 +((R/100)*T))\n",
    "print(\"Your Amount is:\",A)"
   ]
  },
  {
   "cell_type": "code",
   "execution_count": 12,
   "id": "9de13054-0625-4f52-9464-0f9588bab48e",
   "metadata": {
    "scrolled": true
   },
   "outputs": [
    {
     "name": "stdout",
     "output_type": "stream",
     "text": [
      "Your Amount is: 9.863737614862693e+16\n"
     ]
    }
   ],
   "source": [
    "# Python program to Calculate Amount for Compund Interest\n",
    "P = 24000\n",
    "R = 15\n",
    "T = 3\n",
    "n = 4\n",
    "A = P*((1 +((R/n)*T)**(n*T)))\n",
    "print(\"Your Amount is:\",A)"
   ]
  },
  {
   "cell_type": "code",
   "execution_count": 13,
   "id": "be39cb7c-53bc-4b08-9751-49acd9f57876",
   "metadata": {},
   "outputs": [
    {
     "name": "stdout",
     "output_type": "stream",
     "text": [
      "Your Amount is: 1220703125000.0\n"
     ]
    }
   ],
   "source": [
    "# Python to Calculate The Amount for an Annuity Plan\n",
    "PMT = 25000\n",
    "R = 20\n",
    "T = 3\n",
    "n = 4\n",
    "A = PMT*((1+((R/n)**(n*T))-1)/(R/n))\n",
    "print(\"Your Amount is:\",A)"
   ]
  },
  {
   "cell_type": "code",
   "execution_count": null,
   "id": "e3ec574b-db4f-4ef4-9f55-c1bd74655a82",
   "metadata": {},
   "outputs": [],
   "source": []
  }
 ],
 "metadata": {
  "kernelspec": {
   "display_name": "Python 3 (ipykernel)",
   "language": "python",
   "name": "python3"
  },
  "language_info": {
   "codemirror_mode": {
    "name": "ipython",
    "version": 3
   },
   "file_extension": ".py",
   "mimetype": "text/x-python",
   "name": "python",
   "nbconvert_exporter": "python",
   "pygments_lexer": "ipython3",
   "version": "3.11.7"
  }
 },
 "nbformat": 4,
 "nbformat_minor": 5
}
